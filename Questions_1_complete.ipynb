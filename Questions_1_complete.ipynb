{
 "cells": [
  {
   "cell_type": "markdown",
   "id": "16f4c2a3",
   "metadata": {},
   "source": [
    "## Questions_1: top trend of twitter api."
   ]
  },
  {
   "cell_type": "markdown",
   "id": "046593e3",
   "metadata": {},
   "source": [
    "## Installing and importing required libraries\n"
   ]
  },
  {
   "cell_type": "code",
   "execution_count": 19,
   "id": "6a67740b",
   "metadata": {
    "colab": {
     "background_save": true,
     "base_uri": "https://localhost:8080/"
    },
    "id": "6a67740b",
    "outputId": "a34d46d2-2188-42f4-a966-d747eaa82310"
   },
   "outputs": [
    {
     "name": "stdout",
     "output_type": "stream",
     "text": [
      "Requirement already satisfied: tweepy in c:\\users\\mr. neerajnoonwal\\anaconda3\\envs\\myenv\\lib\\site-packages (4.12.1)\n",
      "Requirement already satisfied: requests-oauthlib<2,>=1.2.0 in c:\\users\\mr. neerajnoonwal\\anaconda3\\envs\\myenv\\lib\\site-packages (from tweepy) (1.3.1)\n",
      "Requirement already satisfied: oauthlib<4,>=3.2.0 in c:\\users\\mr. neerajnoonwal\\anaconda3\\envs\\myenv\\lib\\site-packages (from tweepy) (3.2.2)\n",
      "Requirement already satisfied: requests<3,>=2.27.0 in c:\\users\\mr. neerajnoonwal\\anaconda3\\envs\\myenv\\lib\\site-packages (from tweepy) (2.28.1)\n",
      "Requirement already satisfied: idna<4,>=2.5 in c:\\users\\mr. neerajnoonwal\\anaconda3\\envs\\myenv\\lib\\site-packages (from requests<3,>=2.27.0->tweepy) (3.3)\n",
      "Requirement already satisfied: charset-normalizer<3,>=2 in c:\\users\\mr. neerajnoonwal\\anaconda3\\envs\\myenv\\lib\\site-packages (from requests<3,>=2.27.0->tweepy) (2.0.4)\n",
      "Requirement already satisfied: urllib3<1.27,>=1.21.1 in c:\\users\\mr. neerajnoonwal\\anaconda3\\envs\\myenv\\lib\\site-packages (from requests<3,>=2.27.0->tweepy) (1.26.11)\n",
      "Requirement already satisfied: certifi>=2017.4.17 in c:\\users\\mr. neerajnoonwal\\anaconda3\\envs\\myenv\\lib\\site-packages (from requests<3,>=2.27.0->tweepy) (2022.9.14)\n",
      "Requirement already satisfied: plotly in c:\\users\\mr. neerajnoonwal\\anaconda3\\envs\\myenv\\lib\\site-packages (5.13.0)\n",
      "Requirement already satisfied: tenacity>=6.2.0 in c:\\users\\mr. neerajnoonwal\\anaconda3\\envs\\myenv\\lib\\site-packages (from plotly) (8.2.1)\n",
      "Requirement already satisfied: requests in c:\\users\\mr. neerajnoonwal\\anaconda3\\envs\\myenv\\lib\\site-packages (2.28.1)\n",
      "Requirement already satisfied: charset-normalizer<3,>=2 in c:\\users\\mr. neerajnoonwal\\anaconda3\\envs\\myenv\\lib\\site-packages (from requests) (2.0.4)\n",
      "Requirement already satisfied: certifi>=2017.4.17 in c:\\users\\mr. neerajnoonwal\\anaconda3\\envs\\myenv\\lib\\site-packages (from requests) (2022.9.14)\n",
      "Requirement already satisfied: idna<4,>=2.5 in c:\\users\\mr. neerajnoonwal\\anaconda3\\envs\\myenv\\lib\\site-packages (from requests) (3.3)\n",
      "Requirement already satisfied: urllib3<1.27,>=1.21.1 in c:\\users\\mr. neerajnoonwal\\anaconda3\\envs\\myenv\\lib\\site-packages (from requests) (1.26.11)\n"
     ]
    }
   ],
   "source": [
    "!pip install tweepy\n",
    "import tweepy\n",
    "!pip install plotly\n",
    "import plotly.express as px\n",
    "!pip install requests\n",
    "import requests\n",
    "import pandas as pd\n",
    "import matplotlib.pyplot as plt\n",
    "import ipywidgets as widgets\n",
    "import seaborn as sn\n"
   ]
  },
  {
   "cell_type": "code",
   "execution_count": 20,
   "id": "4e3c9347",
   "metadata": {},
   "outputs": [],
   "source": [
    "api_key = '  '      # not able to genrate all 4 variable through developer portal account mob no. not varified \n",
    "api_key_secret = ' '\n",
    "access_token = '     '\n",
    "access_token_secret = '   '"
   ]
  },
  {
   "cell_type": "code",
   "execution_count": 21,
   "id": "1d89220a",
   "metadata": {},
   "outputs": [],
   "source": [
    "auth = tweepy.OAuthHandler(api_key,api_key_secret)\n",
    "auth.set_access_token(access_token,access_token_secret)\n",
    "api = tweepy.API(auth)"
   ]
  },
  {
   "cell_type": "code",
   "execution_count": 22,
   "id": "a6671014",
   "metadata": {},
   "outputs": [],
   "source": [
    "style={'description_width':'initial'}\n",
    "woeid = widgets.IntText(\n",
    "    value=23424848,\n",
    "    description='India',\n",
    "    disabled=False)\n",
    "h1 = widgets.IntSlider(\n",
    "    value=10,\n",
    "    min=1,\n",
    "    max=50,\n",
    "    step=1,\n",
    "    description='Top:',\n",
    "    disabled=False,)\n",
    "h1.style.handle_color = 'lightblue'"
   ]
  },
  {
   "cell_type": "code",
   "execution_count": 23,
   "id": "37d3e3b7",
   "metadata": {},
   "outputs": [],
   "source": [
    "def Trend(new,woid):\n",
    "    apidata = api.get_place_trends(id=woid)\n",
    "    df = pd.DataFrameapidata[0]['trends'][:new]\n",
    "    t = pd.to_datetime(apidata[0]['as_of']).astimezone('Asia/Kolkata').strftime('%d/%B/%Y %T IST')\n",
    "    place = apidata[0]['locations'][0]['name']\n",
    "    title = 'Top trend(s as of '+str(t)+' in '+str(place)\n",
    "    fig=px.bar(df,x='name',y='tweet_volume',\n",
    "           hover_data=['name','tweet_volume','url'],\n",
    "           color='name',labels={'name':'Topic','tweet_volume':'Volume'},\n",
    "           title=title)\n",
    "    fig.update_layout(title_x=0.5)\n",
    "    fig.show()\n"
   ]
  },
  {
   "cell_type": "code",
   "execution_count": 24,
   "id": "cc0b61e5",
   "metadata": {},
   "outputs": [],
   "source": [
    "def visulization():\n",
    "    return widgets.interactive(Trend,new=[\"limit_case\"],woid=woeid)"
   ]
  },
  {
   "cell_type": "code",
   "execution_count": 25,
   "id": "d083ed33",
   "metadata": {
    "id": "d083ed33"
   },
   "outputs": [
    {
     "data": {
      "application/vnd.jupyter.widget-view+json": {
       "model_id": "a6de32c22457432e90ec555aeca4917d",
       "version_major": 2,
       "version_minor": 0
      },
      "text/plain": [
       "interactive(children=(Dropdown(description='new', options=('limit_case',), value='limit_case'), IntText(value=…"
      ]
     },
     "metadata": {},
     "output_type": "display_data"
    }
   ],
   "source": [
    "visulization()"
   ]
  },
  {
   "cell_type": "code",
   "execution_count": null,
   "id": "cd3d40ad",
   "metadata": {},
   "outputs": [],
   "source": []
  }
 ],
 "metadata": {
  "accelerator": "GPU",
  "colab": {
   "collapsed_sections": [],
   "provenance": []
  },
  "extensions": {
   "jupyter_dashboards": {
    "activeView": "report_default",
    "version": 1,
    "views": {
     "grid_default": {
      "cellMargin": 10,
      "defaultCellHeight": 20,
      "maxColumns": 12,
      "name": "grid",
      "type": "grid"
     },
     "report_default": {
      "name": "report",
      "type": "report"
     }
    }
   }
  },
  "gpuClass": "standard",
  "kernelspec": {
   "display_name": "Python 3 (ipykernel)",
   "language": "python",
   "name": "python3"
  },
  "language_info": {
   "codemirror_mode": {
    "name": "ipython",
    "version": 3
   },
   "file_extension": ".py",
   "mimetype": "text/x-python",
   "name": "python",
   "nbconvert_exporter": "python",
   "pygments_lexer": "ipython3",
   "version": "3.10.4"
  }
 },
 "nbformat": 4,
 "nbformat_minor": 5
}
